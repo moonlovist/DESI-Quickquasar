{
 "cells": [
  {
   "cell_type": "code",
   "execution_count": 33,
   "metadata": {},
   "outputs": [],
   "source": [
    "from fitsio import FITS\n",
    "import fitsio\n",
    "import matplotlib.pyplot as plt\n",
    "import astropy.io.fits as pyfits \n",
    "import numpy as np\n",
    "import os"
   ]
  },
  {
   "cell_type": "markdown",
   "metadata": {},
   "source": [
    "# Check the whole running \n",
    "### The results is run with /global/cscratch1/sd/tanting/mocks/quickquasar/quickquasars_script.sh"
   ]
  },
  {
   "cell_type": "code",
   "execution_count": 253,
   "metadata": {},
   "outputs": [
    {
     "name": "stdout",
     "output_type": "stream",
     "text": [
      "128G\t/global/cscratch1/sd/tanting/mocks/quickquasar/tutorial-0.3-4/spectra-16\n",
      "5.2M\t/global/cscratch1/sd/tanting/mocks/quickquasar/tutorial-0.3-4/logs\n",
      "128G\t/global/cscratch1/sd/tanting/mocks/quickquasar/tutorial-0.3-4\n",
      "59M\t/global/cscratch1/sd/tanting/mocks/quickquasar/tutorial-0.3-4/zcat.fits\n"
     ]
    }
   ],
   "source": [
    "!du -h --max-depth=1 /global/cscratch1/sd/tanting/mocks/quickquasar/tutorial-0.3-4\n",
    "!du -h --max-depth=1 /global/cscratch1/sd/tanting/mocks/quickquasar/tutorial-0.3-4/zcat.fits"
   ]
  },
  {
   "cell_type": "markdown",
   "metadata": {},
   "source": [
    "# Check each branch memory of spectra folder\n",
    "### The memory is not linearly distributed"
   ]
  },
  {
   "cell_type": "code",
   "execution_count": 3,
   "metadata": {},
   "outputs": [
    {
     "name": "stdout",
     "output_type": "stream",
     "text": [
      "1.1G\t/global/cscratch1/sd/tanting/mocks/quickquasar/tutorial-0.3-4/spectra-16/13\n",
      "1.2G\t/global/cscratch1/sd/tanting/mocks/quickquasar/tutorial-0.3-4/spectra-16/8\n",
      "1.6G\t/global/cscratch1/sd/tanting/mocks/quickquasar/tutorial-0.3-4/spectra-16/1\n",
      "1.6G\t/global/cscratch1/sd/tanting/mocks/quickquasar/tutorial-0.3-4/spectra-16/30\n",
      "1.8G\t/global/cscratch1/sd/tanting/mocks/quickquasar/tutorial-0.3-4/spectra-16/9\n",
      "1002M\t/global/cscratch1/sd/tanting/mocks/quickquasar/tutorial-0.3-4/spectra-16/15\n",
      "11G\t/global/cscratch1/sd/tanting/mocks/quickquasar/tutorial-0.3-4/spectra-16/17\n",
      "11G\t/global/cscratch1/sd/tanting/mocks/quickquasar/tutorial-0.3-4/spectra-16/3\n",
      "11G\t/global/cscratch1/sd/tanting/mocks/quickquasar/tutorial-0.3-4/spectra-16/5\n",
      "128G\t/global/cscratch1/sd/tanting/mocks/quickquasar/tutorial-0.3-4/spectra-16\n",
      "12G\t/global/cscratch1/sd/tanting/mocks/quickquasar/tutorial-0.3-4/spectra-16/11\n",
      "12G\t/global/cscratch1/sd/tanting/mocks/quickquasar/tutorial-0.3-4/spectra-16/6\n",
      "2.7G\t/global/cscratch1/sd/tanting/mocks/quickquasar/tutorial-0.3-4/spectra-16/14\n",
      "2.8G\t/global/cscratch1/sd/tanting/mocks/quickquasar/tutorial-0.3-4/spectra-16/0\n",
      "20K\t/global/cscratch1/sd/tanting/mocks/quickquasar/tutorial-0.3-4/spectra-16/27\n",
      "3.1G\t/global/cscratch1/sd/tanting/mocks/quickquasar/tutorial-0.3-4/spectra-16/22\n",
      "3.2G\t/global/cscratch1/sd/tanting/mocks/quickquasar/tutorial-0.3-4/spectra-16/20\n",
      "3.6G\t/global/cscratch1/sd/tanting/mocks/quickquasar/tutorial-0.3-4/spectra-16/19\n",
      "332M\t/global/cscratch1/sd/tanting/mocks/quickquasar/tutorial-0.3-4/spectra-16/18\n",
      "4.8G\t/global/cscratch1/sd/tanting/mocks/quickquasar/tutorial-0.3-4/spectra-16/10\n",
      "4.9G\t/global/cscratch1/sd/tanting/mocks/quickquasar/tutorial-0.3-4/spectra-16/2\n",
      "455M\t/global/cscratch1/sd/tanting/mocks/quickquasar/tutorial-0.3-4/spectra-16/23\n",
      "641M\t/global/cscratch1/sd/tanting/mocks/quickquasar/tutorial-0.3-4/spectra-16/28\n",
      "799M\t/global/cscratch1/sd/tanting/mocks/quickquasar/tutorial-0.3-4/spectra-16/25\n",
      "8.0K\t/global/cscratch1/sd/tanting/mocks/quickquasar/tutorial-0.3-4/spectra-16/21\n",
      "8.7G\t/global/cscratch1/sd/tanting/mocks/quickquasar/tutorial-0.3-4/spectra-16/12\n",
      "9.5G\t/global/cscratch1/sd/tanting/mocks/quickquasar/tutorial-0.3-4/spectra-16/4\n",
      "9.7G\t/global/cscratch1/sd/tanting/mocks/quickquasar/tutorial-0.3-4/spectra-16/7\n",
      "9.8G\t/global/cscratch1/sd/tanting/mocks/quickquasar/tutorial-0.3-4/spectra-16/16\n"
     ]
    }
   ],
   "source": [
    "!du -h --max-depth=1 /global/cscratch1/sd/tanting/mocks/quickquasar/tutorial-0.3-4/spectra-16 |sort"
   ]
  },
  {
   "cell_type": "markdown",
   "metadata": {},
   "source": [
    "# Look at each branch"
   ]
  },
  {
   "cell_type": "code",
   "execution_count": 4,
   "metadata": {},
   "outputs": [
    {
     "name": "stdout",
     "output_type": "stream",
     "text": [
      "1.6G\t/global/cscratch1/sd/tanting/mocks/quickquasar/tutorial-0.3-4/spectra-16/1\n",
      "102M\t/global/cscratch1/sd/tanting/mocks/quickquasar/tutorial-0.3-4/spectra-16/1/140\n",
      "115M\t/global/cscratch1/sd/tanting/mocks/quickquasar/tutorial-0.3-4/spectra-16/1/132\n",
      "116M\t/global/cscratch1/sd/tanting/mocks/quickquasar/tutorial-0.3-4/spectra-16/1/130\n",
      "118M\t/global/cscratch1/sd/tanting/mocks/quickquasar/tutorial-0.3-4/spectra-16/1/133\n",
      "119M\t/global/cscratch1/sd/tanting/mocks/quickquasar/tutorial-0.3-4/spectra-16/1/129\n",
      "120M\t/global/cscratch1/sd/tanting/mocks/quickquasar/tutorial-0.3-4/spectra-16/1/128\n",
      "120M\t/global/cscratch1/sd/tanting/mocks/quickquasar/tutorial-0.3-4/spectra-16/1/131\n",
      "122M\t/global/cscratch1/sd/tanting/mocks/quickquasar/tutorial-0.3-4/spectra-16/1/137\n",
      "128M\t/global/cscratch1/sd/tanting/mocks/quickquasar/tutorial-0.3-4/spectra-16/1/138\n",
      "132M\t/global/cscratch1/sd/tanting/mocks/quickquasar/tutorial-0.3-4/spectra-16/1/134\n",
      "136M\t/global/cscratch1/sd/tanting/mocks/quickquasar/tutorial-0.3-4/spectra-16/1/136\n",
      "14M\t/global/cscratch1/sd/tanting/mocks/quickquasar/tutorial-0.3-4/spectra-16/1/141\n",
      "3.2M\t/global/cscratch1/sd/tanting/mocks/quickquasar/tutorial-0.3-4/spectra-16/1/146\n",
      "4.0K\t/global/cscratch1/sd/tanting/mocks/quickquasar/tutorial-0.3-4/spectra-16/1/117\n",
      "4.0K\t/global/cscratch1/sd/tanting/mocks/quickquasar/tutorial-0.3-4/spectra-16/1/119\n",
      "4.0K\t/global/cscratch1/sd/tanting/mocks/quickquasar/tutorial-0.3-4/spectra-16/1/125\n",
      "4.0K\t/global/cscratch1/sd/tanting/mocks/quickquasar/tutorial-0.3-4/spectra-16/1/127\n",
      "4.0K\t/global/cscratch1/sd/tanting/mocks/quickquasar/tutorial-0.3-4/spectra-16/1/142\n",
      "4.0K\t/global/cscratch1/sd/tanting/mocks/quickquasar/tutorial-0.3-4/spectra-16/1/143\n",
      "4.0K\t/global/cscratch1/sd/tanting/mocks/quickquasar/tutorial-0.3-4/spectra-16/1/145\n",
      "4.0K\t/global/cscratch1/sd/tanting/mocks/quickquasar/tutorial-0.3-4/spectra-16/1/147\n",
      "4.0K\t/global/cscratch1/sd/tanting/mocks/quickquasar/tutorial-0.3-4/spectra-16/1/152\n",
      "4.0K\t/global/cscratch1/sd/tanting/mocks/quickquasar/tutorial-0.3-4/spectra-16/1/153\n",
      "4.0K\t/global/cscratch1/sd/tanting/mocks/quickquasar/tutorial-0.3-4/spectra-16/1/154\n",
      "4.0K\t/global/cscratch1/sd/tanting/mocks/quickquasar/tutorial-0.3-4/spectra-16/1/161\n",
      "4.0K\t/global/cscratch1/sd/tanting/mocks/quickquasar/tutorial-0.3-4/spectra-16/1/162\n",
      "4.0K\t/global/cscratch1/sd/tanting/mocks/quickquasar/tutorial-0.3-4/spectra-16/1/163\n",
      "4.0K\t/global/cscratch1/sd/tanting/mocks/quickquasar/tutorial-0.3-4/spectra-16/1/164\n",
      "4.0K\t/global/cscratch1/sd/tanting/mocks/quickquasar/tutorial-0.3-4/spectra-16/1/165\n",
      "4.0K\t/global/cscratch1/sd/tanting/mocks/quickquasar/tutorial-0.3-4/spectra-16/1/166\n",
      "4.0K\t/global/cscratch1/sd/tanting/mocks/quickquasar/tutorial-0.3-4/spectra-16/1/168\n",
      "4.0K\t/global/cscratch1/sd/tanting/mocks/quickquasar/tutorial-0.3-4/spectra-16/1/169\n",
      "4.0K\t/global/cscratch1/sd/tanting/mocks/quickquasar/tutorial-0.3-4/spectra-16/1/170\n",
      "42M\t/global/cscratch1/sd/tanting/mocks/quickquasar/tutorial-0.3-4/spectra-16/1/139\n",
      "49M\t/global/cscratch1/sd/tanting/mocks/quickquasar/tutorial-0.3-4/spectra-16/1/144\n",
      "50M\t/global/cscratch1/sd/tanting/mocks/quickquasar/tutorial-0.3-4/spectra-16/1/160\n",
      "94M\t/global/cscratch1/sd/tanting/mocks/quickquasar/tutorial-0.3-4/spectra-16/1/135\n"
     ]
    }
   ],
   "source": [
    "!du -h --max-depth=1 /global/cscratch1/sd/tanting/mocks/quickquasar/tutorial-0.3-4/spectra-16/1 |sort"
   ]
  },
  {
   "cell_type": "markdown",
   "metadata": {},
   "source": [
    "### The folders with 4.0k memory are empty\n",
    "### Look at each realisation:\n",
    "\n",
    "### The realisation with 3.2M memory, number 146: contains 6 quasar spectra\n",
    "### The realisation with 136M memory, number 136: contains 278 quasar spectra\n",
    "### Means that each quasar spectra takes around 0.5M memory"
   ]
  },
  {
   "cell_type": "code",
   "execution_count": 12,
   "metadata": {},
   "outputs": [
    {
     "name": "stdout",
     "output_type": "stream",
     "text": [
      "number of spectra of number 146 with 3.2M memory: 6\n",
      "number of spectra of number 136 with 136M memory: 278\n"
     ]
    }
   ],
   "source": [
    "document_1 = FITS('/global/cscratch1/sd/tanting/mocks/quickquasar/tutorial-0.3-4/spectra-16/1/146/spectra-16-146.fits',vstorage='object')\n",
    "document_2 = FITS('/global/cscratch1/sd/tanting/mocks/quickquasar/tutorial-0.3-4/spectra-16/1/136/spectra-16-136.fits',vstorage='object')\n",
    "print('number of spectra of number 146 with 3.2M memory:',len(document_1['fibermap']['TARGETID'][:]))\n",
    "print('number of spectra of number 136 with 136M memory:',len(document_2['fibermap']['TARGETID'][:]))"
   ]
  },
  {
   "cell_type": "markdown",
   "metadata": {},
   "source": [
    "# Look at the truth and zbest file for each quasar spectra:\n",
    "### Each truth file, zbest file takes ~ 5k memory"
   ]
  },
  {
   "cell_type": "code",
   "execution_count": 257,
   "metadata": {},
   "outputs": [
    {
     "name": "stdout",
     "output_type": "stream",
     "text": [
      "32K\t/global/cscratch1/sd/tanting/mocks/quickquasar/tutorial-0.3-4/spectra-16/1/146/truth-16-146.fits\n",
      "3.1M\t/global/cscratch1/sd/tanting/mocks/quickquasar/tutorial-0.3-4/spectra-16/1/146/spectra-16-146.fits\n",
      "28K\t/global/cscratch1/sd/tanting/mocks/quickquasar/tutorial-0.3-4/spectra-16/1/146/zbest-16-146.fits\n",
      "3.2M\t/global/cscratch1/sd/tanting/mocks/quickquasar/tutorial-0.3-4/spectra-16/1/146\n"
     ]
    }
   ],
   "source": [
    "!du -ah /global/cscratch1/sd/tanting/mocks/quickquasar/tutorial-0.3-4/spectra-16/1/146"
   ]
  },
  {
   "cell_type": "markdown",
   "metadata": {},
   "source": [
    "# Number of HDUs of each quasar spectra:"
   ]
  },
  {
   "cell_type": "markdown",
   "metadata": {},
   "source": [
    "### wavelength, flux, ivar, mask and resolution of B,R,Z bands"
   ]
  },
  {
   "cell_type": "code",
   "execution_count": 13,
   "metadata": {},
   "outputs": [
    {
     "data": {
      "text/plain": [
       "\n",
       "  file: /global/cscratch1/sd/tanting/mocks/quickquasar/tutorial-0.3-4/spectra-16/1/146/spectra-16-146.fits\n",
       "  mode: READONLY\n",
       "  extnum hdutype         hduname[v]\n",
       "  0      IMAGE_HDU       \n",
       "  1      BINARY_TBL      FIBERMAP\n",
       "  2      IMAGE_HDU       B_WAVELENGTH\n",
       "  3      IMAGE_HDU       B_FLUX\n",
       "  4      IMAGE_HDU       B_IVAR\n",
       "  5      IMAGE_HDU       B_MASK\n",
       "  6      IMAGE_HDU       B_RESOLUTION\n",
       "  7      IMAGE_HDU       R_WAVELENGTH\n",
       "  8      IMAGE_HDU       R_FLUX\n",
       "  9      IMAGE_HDU       R_IVAR\n",
       "  10     IMAGE_HDU       R_MASK\n",
       "  11     IMAGE_HDU       R_RESOLUTION\n",
       "  12     IMAGE_HDU       Z_WAVELENGTH\n",
       "  13     IMAGE_HDU       Z_FLUX\n",
       "  14     IMAGE_HDU       Z_IVAR\n",
       "  15     IMAGE_HDU       Z_MASK\n",
       "  16     IMAGE_HDU       Z_RESOLUTION"
      ]
     },
     "execution_count": 13,
     "metadata": {},
     "output_type": "execute_result"
    }
   ],
   "source": [
    "document_1"
   ]
  },
  {
   "cell_type": "markdown",
   "metadata": {},
   "source": [
    "### In the fibermap"
   ]
  },
  {
   "cell_type": "code",
   "execution_count": 31,
   "metadata": {},
   "outputs": [
    {
     "data": {
      "text/plain": [
       "('TARGETID',\n",
       " 'DESI_TARGET',\n",
       " 'BGS_TARGET',\n",
       " 'MWS_TARGET',\n",
       " 'SECONDARY_TARGET',\n",
       " 'TARGET_RA',\n",
       " 'TARGET_DEC',\n",
       " 'TARGET_RA_IVAR',\n",
       " 'TARGET_DEC_IVAR',\n",
       " 'BRICKID',\n",
       " 'BRICK_OBJID',\n",
       " 'MORPHTYPE',\n",
       " 'PRIORITY',\n",
       " 'SUBPRIORITY',\n",
       " 'REF_ID',\n",
       " 'PMRA',\n",
       " 'PMDEC',\n",
       " 'REF_EPOCH',\n",
       " 'PMRA_IVAR',\n",
       " 'PMDEC_IVAR',\n",
       " 'RELEASE',\n",
       " 'FLUX_G',\n",
       " 'FLUX_R',\n",
       " 'FLUX_Z',\n",
       " 'FLUX_W1',\n",
       " 'FLUX_W2',\n",
       " 'FLUX_IVAR_G',\n",
       " 'FLUX_IVAR_R',\n",
       " 'FLUX_IVAR_Z',\n",
       " 'FLUX_IVAR_W1',\n",
       " 'FLUX_IVAR_W2',\n",
       " 'FIBERFLUX_G',\n",
       " 'FIBERFLUX_R',\n",
       " 'FIBERFLUX_Z',\n",
       " 'FIBERFLUX_W1',\n",
       " 'FIBERFLUX_W2',\n",
       " 'FIBERTOTFLUX_G',\n",
       " 'FIBERTOTFLUX_R',\n",
       " 'FIBERTOTFLUX_Z',\n",
       " 'FIBERTOTFLUX_W1',\n",
       " 'FIBERTOTFLUX_W2',\n",
       " 'MW_TRANSMISSION_G',\n",
       " 'MW_TRANSMISSION_R',\n",
       " 'MW_TRANSMISSION_Z',\n",
       " 'EBV',\n",
       " 'PHOTSYS',\n",
       " 'OBSCONDITIONS',\n",
       " 'NUMOBS_INIT',\n",
       " 'PRIORITY_INIT',\n",
       " 'NUMOBS_MORE',\n",
       " 'HPXPIXEL',\n",
       " 'FIBER',\n",
       " 'PETAL_LOC',\n",
       " 'DEVICE_LOC',\n",
       " 'LOCATION',\n",
       " 'FIBERSTATUS',\n",
       " 'OBJTYPE',\n",
       " 'LAMBDA_REF',\n",
       " 'FIBERASSIGN_X',\n",
       " 'FIBERASSIGN_Y',\n",
       " 'FA_TARGET',\n",
       " 'FA_TYPE',\n",
       " 'NUMTARGET',\n",
       " 'FIBER_RA',\n",
       " 'FIBER_DEC',\n",
       " 'FIBER_RA_IVAR',\n",
       " 'FIBER_DEC_IVAR',\n",
       " 'PLATEMAKER_X',\n",
       " 'PLATEMAKER_Y',\n",
       " 'PLATEMAKER_RA',\n",
       " 'PLATEMAKER_DEC',\n",
       " 'NUM_ITER',\n",
       " 'SPECTROID',\n",
       " 'EXPTIME',\n",
       " 'NIGHT',\n",
       " 'EXPID',\n",
       " 'TILEID')"
      ]
     },
     "execution_count": 31,
     "metadata": {},
     "output_type": "execute_result"
    }
   ],
   "source": [
    "document_1['FIBERMAP'][:].dtype.names"
   ]
  },
  {
   "cell_type": "code",
   "execution_count": 107,
   "metadata": {},
   "outputs": [
    {
     "data": {
      "text/plain": [
       "tuple"
      ]
     },
     "execution_count": 107,
     "metadata": {},
     "output_type": "execute_result"
    }
   ],
   "source": [
    "type(document_1['FIBERMAP'][:][0].tolist())"
   ]
  },
  {
   "cell_type": "markdown",
   "metadata": {},
   "source": [
    "# Check if the wavelength of each realisation is the same"
   ]
  },
  {
   "cell_type": "code",
   "execution_count": 56,
   "metadata": {},
   "outputs": [],
   "source": [
    "import operator"
   ]
  },
  {
   "cell_type": "code",
   "execution_count": 44,
   "metadata": {},
   "outputs": [],
   "source": [
    "dir = '/global/cscratch1/sd/tanting/mocks/quickquasar/tutorial-0.3-4/spectra-16/1'\n",
    "files_total = []\n",
    "for file in os.listdir(dir):\n",
    "    files = os.listdir(dir + '/' + file)\n",
    "    for files_single in files:\n",
    "        if files_single.startswith('spectra'):\n",
    "            files_total.append(dir + '/' + file + '/' + files_single)"
   ]
  },
  {
   "cell_type": "code",
   "execution_count": 59,
   "metadata": {},
   "outputs": [],
   "source": [
    "wavelength_reference = FITS(files_total[0],vstorage='object')['B_WAVELENGTH'][:]\n",
    "for file_index in files_total[1:]:\n",
    "    wavelength_compare = FITS(file_index,vstorage='object')['B_WAVELENGTH'][:]\n",
    "    if not set(wavelength_compare)==set(wavelength_reference):\n",
    "        print('different wavelength array')"
   ]
  },
  {
   "cell_type": "code",
   "execution_count": null,
   "metadata": {},
   "outputs": [],
   "source": []
  },
  {
   "cell_type": "markdown",
   "metadata": {},
   "source": [
    "# Check in each spectra file, which part contains the most momery"
   ]
  },
  {
   "cell_type": "code",
   "execution_count": 60,
   "metadata": {},
   "outputs": [
    {
     "name": "stdout",
     "output_type": "stream",
     "text": [
      "3120\t/global/cscratch1/sd/tanting/mocks/quickquasar/tutorial-0.3-4/spectra-16/1/146/spectra_test.fits\n"
     ]
    }
   ],
   "source": [
    "!du /global/cscratch1/sd/tanting/mocks/quickquasar/tutorial-0.3-4/spectra-16/1/146/spectra_test.fits"
   ]
  },
  {
   "cell_type": "code",
   "execution_count": 192,
   "metadata": {},
   "outputs": [],
   "source": [
    "!cp /global/cscratch1/sd/tanting/mocks/quickquasar/tutorial-0.3-4/spectra-16/1/146/spectra-16-146.fits /global/cscratch1/sd/tanting/mocks/quickquasar/quickquasars_test/spectra_test.fits\n",
    "\n",
    "for i in range(1,17):\n",
    "    hdu = fits.open('/global/cscratch1/sd/tanting/mocks/quickquasar/quickquasars_test/spectra_test.fits')\n",
    "    select = hdu[i]\n",
    "    for j in range(1,16):\n",
    "        hdu.pop(1)\n",
    "    hdu[1] = select\n",
    "    hdu.writeto('/global/cscratch1/sd/tanting/mocks/quickquasar/quickquasars_test/spectra_test_{}.fits'.format(i),overwrite=True)"
   ]
  },
  {
   "cell_type": "code",
   "execution_count": 199,
   "metadata": {},
   "outputs": [
    {
     "name": "stdout",
     "output_type": "stream",
     "text": [
      "24\t/global/cscratch1/sd/tanting/mocks/quickquasar/quickquasars_test/spectra_test_1.fits\n",
      "3120\t/global/cscratch1/sd/tanting/mocks/quickquasar/quickquasars_test/spectra_test.fits\n",
      "32\t/global/cscratch1/sd/tanting/mocks/quickquasar/quickquasars_test/spectra_test_7.fits\n",
      "36\t/global/cscratch1/sd/tanting/mocks/quickquasar/quickquasars_test/spectra_test_12.fits\n",
      "36\t/global/cscratch1/sd/tanting/mocks/quickquasar/quickquasars_test/spectra_test_2.fits\n",
      "6356\t/global/cscratch1/sd/tanting/mocks/quickquasar/quickquasars_test/\n",
      "692\t/global/cscratch1/sd/tanting/mocks/quickquasar/quickquasars_test/spectra_test_11.fits\n",
      "76\t/global/cscratch1/sd/tanting/mocks/quickquasar/quickquasars_test/spectra_test_10.fits\n",
      "76\t/global/cscratch1/sd/tanting/mocks/quickquasar/quickquasars_test/spectra_test_8.fits\n",
      "76\t/global/cscratch1/sd/tanting/mocks/quickquasar/quickquasars_test/spectra_test_9.fits\n",
      "780\t/global/cscratch1/sd/tanting/mocks/quickquasar/quickquasars_test/spectra_test_6.fits\n",
      "80\t/global/cscratch1/sd/tanting/mocks/quickquasar/quickquasars_test/spectra_test_13.fits\n",
      "80\t/global/cscratch1/sd/tanting/mocks/quickquasar/quickquasars_test/spectra_test_14.fits\n",
      "80\t/global/cscratch1/sd/tanting/mocks/quickquasar/quickquasars_test/spectra_test_15.fits\n",
      "80\t/global/cscratch1/sd/tanting/mocks/quickquasar/quickquasars_test/spectra_test_3.fits\n",
      "80\t/global/cscratch1/sd/tanting/mocks/quickquasar/quickquasars_test/spectra_test_4.fits\n",
      "80\t/global/cscratch1/sd/tanting/mocks/quickquasar/quickquasars_test/spectra_test_5.fits\n",
      "924\t/global/cscratch1/sd/tanting/mocks/quickquasar/quickquasars_test/spectra_test_16.fits\n"
     ]
    }
   ],
   "source": [
    "!du -a /global/cscratch1/sd/tanting/mocks/quickquasar/quickquasars_test/ |sort"
   ]
  },
  {
   "cell_type": "code",
   "execution_count": 198,
   "metadata": {},
   "outputs": [
    {
     "name": "stdout",
     "output_type": "stream",
     "text": [
      "Filename: /global/cscratch1/sd/tanting/mocks/quickquasar/quickquasars_test/spectra_test_16.fits\n",
      "No.    Name      Ver    Type      Cards   Dimensions   Format\n",
      "  0  PRIMARY       1 PrimaryHDU      41   ()      \n",
      "  1  Z_RESOLUTION    1 ImageHDU        11   (2999, 13, 6)   float32   \n"
     ]
    }
   ],
   "source": [
    "hdu = fits.open('/global/cscratch1/sd/tanting/mocks/quickquasar/quickquasars_test/spectra_test_16.fits')\n",
    "hdu.info()"
   ]
  },
  {
   "cell_type": "markdown",
   "metadata": {},
   "source": [
    "# One can know that: for each quasar spectra:\n",
    "## Each header information takes ~ 4 kb\n",
    "## Each wavelength file takes ~ 6 kb\n",
    "## Each flux,ivar,mask file takes ~ 15 kb\n",
    "## Each resolution HDU takes ~ 115-164 kb, most of the memory"
   ]
  },
  {
   "cell_type": "code",
   "execution_count": null,
   "metadata": {},
   "outputs": [],
   "source": []
  },
  {
   "cell_type": "markdown",
   "metadata": {},
   "source": [
    "# Using the spectra convertion function in picca to get only the diagonal term of resolution:"
   ]
  },
  {
   "cell_type": "code",
   "execution_count": 315,
   "metadata": {},
   "outputs": [],
   "source": [
    "def spectral_resolution_desi(reso_matrix, log_lambda):\n",
    "    \"\"\"Computes the spectral resolution for DESI spectra\n",
    "    Args:\n",
    "        reso_matrix: array\n",
    "            Resolution matrix\n",
    "        log_lambda: array or None - default: None\n",
    "            Logarithm of the wavelength (in Angstroms)\n",
    "    Returns:\n",
    "        The spectral resolution\n",
    "    \"\"\"\n",
    "\n",
    "    delta_log_lambda = ((log_lambda[-1] - log_lambda[0]) /\n",
    "                        float(len(log_lambda) - 1))\n",
    "    reso = np.clip(reso_matrix, 1.0e-6, 1.0e6)\n",
    "    rms_in_pixel = (np.sqrt(1.0 / 2.0 / np.log(\n",
    "        reso[len(reso) // 2][:] / reso[len(reso) // 2 - 1][:])) + np.sqrt(\n",
    "            4.0 / 2.0 / np.log(\n",
    "                reso[len(reso) // 2][:] / reso[len(reso) // 2 - 2][:]))) / 2.0\n",
    "\n",
    "    reso_in_km_per_s = (rms_in_pixel * 3*10**8 * delta_log_lambda *\n",
    "                        np.log(10.0))\n",
    "\n",
    "    return reso_in_km_per_s"
   ]
  },
  {
   "cell_type": "code",
   "execution_count": 316,
   "metadata": {},
   "outputs": [],
   "source": [
    "document = FITS('/global/cscratch1/sd/tanting/mocks/quickquasar/tutorial-0.3-4/spectra-16/1/146/spectra-16-146.fits',vstorage='object')"
   ]
  },
  {
   "cell_type": "code",
   "execution_count": 317,
   "metadata": {},
   "outputs": [],
   "source": [
    "spectral_resolution_reform = spectral_resolution_desi(document['B_RESOLUTION'][0,:,:][0],np.log(document['B_WAVELENGTH'][:]))"
   ]
  },
  {
   "cell_type": "code",
   "execution_count": 318,
   "metadata": {},
   "outputs": [],
   "source": [
    "hdu = fits.PrimaryHDU(spectral_resolution_reform)\n",
    "hdul = fits.HDUList([hdu])\n",
    "hdul.writeto('/global/cscratch1/sd/tanting/mocks/quickquasar/quickquasars_test/spectra_resolution.fits',overwrite=True)"
   ]
  },
  {
   "cell_type": "markdown",
   "metadata": {},
   "source": [
    "# Check the pixels plots of each realisation, find the reason of empty files"
   ]
  },
  {
   "cell_type": "code",
   "execution_count": 210,
   "metadata": {},
   "outputs": [],
   "source": [
    "file_zcat_all = FITS('/global/cscratch1/sd/tanting/mocks/quickquasar/tutorial-0.3-4/zcat.fits',vstorage='object')"
   ]
  },
  {
   "cell_type": "code",
   "execution_count": 238,
   "metadata": {},
   "outputs": [
    {
     "data": {
      "image/png": "[encoded data removed]",
      "text/plain": [
       "<matplotlib.figure.Figure at 0x2aaad9b93080>"
      ]
     },
     "metadata": {
      "needs_background": "light"
     },
     "output_type": "display_data"
    }
   ],
   "source": [
    "import matplotlib._color_data as mcd\n",
    "plt.scatter(file_zcat_all[1]['RA'][:],file_zcat_all[1]['DEC'][:],marker='.',color = 'orange',alpha = 0.1);\n",
    "realisation = os.listdir('/global/cscratch1/sd/tanting/mocks/quickquasar/tutorial-0.3-4/spectra-16')\n",
    "for real,color in zip(realisation[0:10],mcd.CSS4_COLORS):\n",
    "    dir = '/global/cscratch1/sd/tanting/mocks/quickquasar/tutorial-0.3-4/spectra-16/' + real\n",
    "    files_total = []\n",
    "    for file in os.listdir(dir):\n",
    "        files = os.listdir(dir + '/' + file)\n",
    "        for files_zcat in files:\n",
    "            if files_zcat.startswith('zbest'):\n",
    "                file_zcat = FITS(dir + '/' + file + '/' + files_zcat,vstorage='object')\n",
    "                plt.scatter(file_zcat[2]['FIBER_RA'][:],file_zcat[2]['FIBER_DEC'][:],marker='.',color = color,label = '1')\n",
    "plt.xlabel('RA [deg]');\n",
    "plt.ylabel('DEC [deg]');"
   ]
  },
  {
   "cell_type": "markdown",
   "metadata": {},
   "source": [
    "# Within each realisation:"
   ]
  },
  {
   "cell_type": "code",
   "execution_count": 247,
   "metadata": {},
   "outputs": [
    {
     "name": "stdout",
     "output_type": "stream",
     "text": [
      "/global/cscratch1/sd/tanting/mocks/quickquasar/tutorial-0.3-4/spectra-16/2 50\n"
     ]
    },
    {
     "data": {
      "image/png": "[encoded data removed]",
      "text/plain": [
       "<matplotlib.figure.Figure at 0x2aaada391f60>"
      ]
     },
     "metadata": {
      "needs_background": "light"
     },
     "output_type": "display_data"
    }
   ],
   "source": [
    "import matplotlib._color_data as mcd\n",
    "#plt.scatter(file_zcat_all[1]['RA'][:],file_zcat_all[1]['DEC'][:],marker='.',color = 'orange',alpha = 0.1);\n",
    "realisation = os.listdir('/global/cscratch1/sd/tanting/mocks/quickquasar/tutorial-0.3-4/spectra-16')\n",
    "for real in realisation[0:1]:\n",
    "    dir = '/global/cscratch1/sd/tanting/mocks/quickquasar/tutorial-0.3-4/spectra-16/' + real\n",
    "    print(dir,len(os.listdir(dir)))\n",
    "    files_total = []\n",
    "    for file,color in zip(os.listdir(dir),mcd.CSS4_COLORS):\n",
    "        files = os.listdir(dir + '/' + file)\n",
    "        for files_zcat in files:\n",
    "            if files_zcat.startswith('zbest'):\n",
    "                file_zcat = FITS(dir + '/' + file + '/' + files_zcat,vstorage='object')\n",
    "                plt.scatter(file_zcat[2]['FIBER_RA'][:],file_zcat[2]['FIBER_DEC'][:],marker='.',color = color,label = '1')\n",
    "plt.xlabel('RA [deg]');\n",
    "plt.ylabel('DEC [deg]');"
   ]
  },
  {
   "cell_type": "code",
   "execution_count": 246,
   "metadata": {},
   "outputs": [
    {
     "name": "stdout",
     "output_type": "stream",
     "text": [
      "101M\t/global/cscratch1/sd/tanting/mocks/quickquasar/tutorial-0.3-4/spectra-16/2/271\n",
      "102M\t/global/cscratch1/sd/tanting/mocks/quickquasar/tutorial-0.3-4/spectra-16/2/270\n",
      "102M\t/global/cscratch1/sd/tanting/mocks/quickquasar/tutorial-0.3-4/spectra-16/2/286\n",
      "105M\t/global/cscratch1/sd/tanting/mocks/quickquasar/tutorial-0.3-4/spectra-16/2/273\n",
      "105M\t/global/cscratch1/sd/tanting/mocks/quickquasar/tutorial-0.3-4/spectra-16/2/275\n",
      "107M\t/global/cscratch1/sd/tanting/mocks/quickquasar/tutorial-0.3-4/spectra-16/2/262\n",
      "108M\t/global/cscratch1/sd/tanting/mocks/quickquasar/tutorial-0.3-4/spectra-16/2/277\n",
      "108M\t/global/cscratch1/sd/tanting/mocks/quickquasar/tutorial-0.3-4/spectra-16/2/294\n",
      "109M\t/global/cscratch1/sd/tanting/mocks/quickquasar/tutorial-0.3-4/spectra-16/2/256\n",
      "110M\t/global/cscratch1/sd/tanting/mocks/quickquasar/tutorial-0.3-4/spectra-16/2/258\n",
      "111M\t/global/cscratch1/sd/tanting/mocks/quickquasar/tutorial-0.3-4/spectra-16/2/268\n",
      "111M\t/global/cscratch1/sd/tanting/mocks/quickquasar/tutorial-0.3-4/spectra-16/2/274\n",
      "111M\t/global/cscratch1/sd/tanting/mocks/quickquasar/tutorial-0.3-4/spectra-16/2/284\n",
      "111M\t/global/cscratch1/sd/tanting/mocks/quickquasar/tutorial-0.3-4/spectra-16/2/295\n",
      "112M\t/global/cscratch1/sd/tanting/mocks/quickquasar/tutorial-0.3-4/spectra-16/2/259\n",
      "112M\t/global/cscratch1/sd/tanting/mocks/quickquasar/tutorial-0.3-4/spectra-16/2/289\n",
      "112M\t/global/cscratch1/sd/tanting/mocks/quickquasar/tutorial-0.3-4/spectra-16/2/299\n",
      "113M\t/global/cscratch1/sd/tanting/mocks/quickquasar/tutorial-0.3-4/spectra-16/2/261\n",
      "113M\t/global/cscratch1/sd/tanting/mocks/quickquasar/tutorial-0.3-4/spectra-16/2/276\n",
      "114M\t/global/cscratch1/sd/tanting/mocks/quickquasar/tutorial-0.3-4/spectra-16/2/263\n",
      "114M\t/global/cscratch1/sd/tanting/mocks/quickquasar/tutorial-0.3-4/spectra-16/2/293\n",
      "116M\t/global/cscratch1/sd/tanting/mocks/quickquasar/tutorial-0.3-4/spectra-16/2/267\n",
      "116M\t/global/cscratch1/sd/tanting/mocks/quickquasar/tutorial-0.3-4/spectra-16/2/278\n",
      "116M\t/global/cscratch1/sd/tanting/mocks/quickquasar/tutorial-0.3-4/spectra-16/2/291\n",
      "117M\t/global/cscratch1/sd/tanting/mocks/quickquasar/tutorial-0.3-4/spectra-16/2/280\n",
      "117M\t/global/cscratch1/sd/tanting/mocks/quickquasar/tutorial-0.3-4/spectra-16/2/292\n",
      "118M\t/global/cscratch1/sd/tanting/mocks/quickquasar/tutorial-0.3-4/spectra-16/2/257\n",
      "118M\t/global/cscratch1/sd/tanting/mocks/quickquasar/tutorial-0.3-4/spectra-16/2/281\n",
      "119M\t/global/cscratch1/sd/tanting/mocks/quickquasar/tutorial-0.3-4/spectra-16/2/282\n",
      "119M\t/global/cscratch1/sd/tanting/mocks/quickquasar/tutorial-0.3-4/spectra-16/2/287\n",
      "122M\t/global/cscratch1/sd/tanting/mocks/quickquasar/tutorial-0.3-4/spectra-16/2/272\n",
      "123M\t/global/cscratch1/sd/tanting/mocks/quickquasar/tutorial-0.3-4/spectra-16/2/269\n",
      "123M\t/global/cscratch1/sd/tanting/mocks/quickquasar/tutorial-0.3-4/spectra-16/2/297\n",
      "125M\t/global/cscratch1/sd/tanting/mocks/quickquasar/tutorial-0.3-4/spectra-16/2/260\n",
      "125M\t/global/cscratch1/sd/tanting/mocks/quickquasar/tutorial-0.3-4/spectra-16/2/283\n",
      "125M\t/global/cscratch1/sd/tanting/mocks/quickquasar/tutorial-0.3-4/spectra-16/2/290\n",
      "126M\t/global/cscratch1/sd/tanting/mocks/quickquasar/tutorial-0.3-4/spectra-16/2/288\n",
      "127M\t/global/cscratch1/sd/tanting/mocks/quickquasar/tutorial-0.3-4/spectra-16/2/265\n",
      "127M\t/global/cscratch1/sd/tanting/mocks/quickquasar/tutorial-0.3-4/spectra-16/2/266\n",
      "130M\t/global/cscratch1/sd/tanting/mocks/quickquasar/tutorial-0.3-4/spectra-16/2/279\n",
      "134M\t/global/cscratch1/sd/tanting/mocks/quickquasar/tutorial-0.3-4/spectra-16/2/285\n",
      "4.0K\t/global/cscratch1/sd/tanting/mocks/quickquasar/tutorial-0.3-4/spectra-16/2/213\n",
      "4.0K\t/global/cscratch1/sd/tanting/mocks/quickquasar/tutorial-0.3-4/spectra-16/2/215\n",
      "4.0K\t/global/cscratch1/sd/tanting/mocks/quickquasar/tutorial-0.3-4/spectra-16/2/221\n",
      "4.0K\t/global/cscratch1/sd/tanting/mocks/quickquasar/tutorial-0.3-4/spectra-16/2/223\n",
      "4.0K\t/global/cscratch1/sd/tanting/mocks/quickquasar/tutorial-0.3-4/spectra-16/2/245\n",
      "4.0K\t/global/cscratch1/sd/tanting/mocks/quickquasar/tutorial-0.3-4/spectra-16/2/247\n",
      "4.9G\t/global/cscratch1/sd/tanting/mocks/quickquasar/tutorial-0.3-4/spectra-16/2\n",
      "73M\t/global/cscratch1/sd/tanting/mocks/quickquasar/tutorial-0.3-4/spectra-16/2/298\n",
      "99M\t/global/cscratch1/sd/tanting/mocks/quickquasar/tutorial-0.3-4/spectra-16/2/264\n",
      "99M\t/global/cscratch1/sd/tanting/mocks/quickquasar/tutorial-0.3-4/spectra-16/2/296\n"
     ]
    }
   ],
   "source": [
    "!du -h --max-depth=1 /global/cscratch1/sd/tanting/mocks/quickquasar/tutorial-0.3-4/spectra-16/2 |sort"
   ]
  },
  {
   "cell_type": "code",
   "execution_count": 252,
   "metadata": {},
   "outputs": [
    {
     "name": "stdout",
     "output_type": "stream",
     "text": [
      "/global/cscratch1/sd/tanting/mocks/quickquasar/tutorial-0.3-4/spectra-16/28 15\n"
     ]
    },
    {
     "data": {
      "image/png": "[encoded data removed]",
      "text/plain": [
       "<matplotlib.figure.Figure at 0x2aaada55cd30>"
      ]
     },
     "metadata": {
      "needs_background": "light"
     },
     "output_type": "display_data"
    }
   ],
   "source": [
    "import matplotlib._color_data as mcd\n",
    "#plt.scatter(file_zcat_all[1]['RA'][:],file_zcat_all[1]['DEC'][:],marker='.',color = 'orange',alpha = 0.1);\n",
    "realisation = os.listdir('/global/cscratch1/sd/tanting/mocks/quickquasar/tutorial-0.3-4/spectra-16')\n",
    "for real in realisation[1:2]:\n",
    "    dir = '/global/cscratch1/sd/tanting/mocks/quickquasar/tutorial-0.3-4/spectra-16/' + real\n",
    "    print(dir,len(os.listdir(dir)))\n",
    "    files_total = []\n",
    "    for file,color in zip(os.listdir(dir),mcd.CSS4_COLORS):\n",
    "        files = os.listdir(dir + '/' + file)\n",
    "        for files_zcat in files:\n",
    "            if files_zcat.startswith('zbest'):\n",
    "                file_zcat = FITS(dir + '/' + file + '/' + files_zcat,vstorage='object')\n",
    "                plt.scatter(file_zcat[2]['FIBER_RA'][:],file_zcat[2]['FIBER_DEC'][:],marker='.',color = color,label = '1')\n",
    "plt.xlabel('RA [deg]');\n",
    "plt.ylabel('DEC [deg]');"
   ]
  },
  {
   "cell_type": "code",
   "execution_count": 250,
   "metadata": {},
   "outputs": [
    {
     "name": "stdout",
     "output_type": "stream",
     "text": [
      "107M\t/global/cscratch1/sd/tanting/mocks/quickquasar/tutorial-0.3-4/spectra-16/28/2811\n",
      "112M\t/global/cscratch1/sd/tanting/mocks/quickquasar/tutorial-0.3-4/spectra-16/28/2815\n",
      "113M\t/global/cscratch1/sd/tanting/mocks/quickquasar/tutorial-0.3-4/spectra-16/28/2813\n",
      "128M\t/global/cscratch1/sd/tanting/mocks/quickquasar/tutorial-0.3-4/spectra-16/28/2814\n",
      "2.2M\t/global/cscratch1/sd/tanting/mocks/quickquasar/tutorial-0.3-4/spectra-16/28/2807\n",
      "35M\t/global/cscratch1/sd/tanting/mocks/quickquasar/tutorial-0.3-4/spectra-16/28/2810\n",
      "4.0K\t/global/cscratch1/sd/tanting/mocks/quickquasar/tutorial-0.3-4/spectra-16/28/2801\n",
      "4.0K\t/global/cscratch1/sd/tanting/mocks/quickquasar/tutorial-0.3-4/spectra-16/28/2802\n",
      "4.0K\t/global/cscratch1/sd/tanting/mocks/quickquasar/tutorial-0.3-4/spectra-16/28/2803\n",
      "4.0K\t/global/cscratch1/sd/tanting/mocks/quickquasar/tutorial-0.3-4/spectra-16/28/2804\n",
      "4.0K\t/global/cscratch1/sd/tanting/mocks/quickquasar/tutorial-0.3-4/spectra-16/28/2805\n",
      "4.0K\t/global/cscratch1/sd/tanting/mocks/quickquasar/tutorial-0.3-4/spectra-16/28/2806\n",
      "4.0K\t/global/cscratch1/sd/tanting/mocks/quickquasar/tutorial-0.3-4/spectra-16/28/2808\n",
      "49M\t/global/cscratch1/sd/tanting/mocks/quickquasar/tutorial-0.3-4/spectra-16/28/2809\n",
      "641M\t/global/cscratch1/sd/tanting/mocks/quickquasar/tutorial-0.3-4/spectra-16/28\n",
      "96M\t/global/cscratch1/sd/tanting/mocks/quickquasar/tutorial-0.3-4/spectra-16/28/2812\n"
     ]
    }
   ],
   "source": [
    "!du -h --max-depth=1 /global/cscratch1/sd/tanting/mocks/quickquasar/tutorial-0.3-4/spectra-16/28 |sort"
   ]
  },
  {
   "cell_type": "code",
   "execution_count": null,
   "metadata": {},
   "outputs": [],
   "source": []
  },
  {
   "cell_type": "code",
   "execution_count": null,
   "metadata": {},
   "outputs": [],
   "source": []
  }
 ],
 "metadata": {
  "kernelspec": {
   "display_name": "DESI 19.12",
   "language": "python",
   "name": "desi-19.12"
  },
  "language_info": {
   "codemirror_mode": {
    "name": "ipython",
    "version": 3
   },
   "file_extension": ".py",
   "mimetype": "text/x-python",
   "name": "python",
   "nbconvert_exporter": "python",
   "pygments_lexer": "ipython3",
   "version": "3.6.6"
  }
 },
 "nbformat": 4,
 "nbformat_minor": 4
}
